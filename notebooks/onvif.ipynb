{
 "cells": [
  {
   "cell_type": "code",
   "execution_count": 1,
   "source": [
    "!pip install --upgrade onvif_zeep"
   ],
   "outputs": [
    {
     "output_type": "stream",
     "name": "stdout",
     "text": [
      "Collecting onvif_zeep\n",
      "  Using cached onvif_zeep-0.2.12-py3-none-any.whl\n",
      "Collecting zeep>=3.0.0\n",
      "  Using cached zeep-4.0.0-py2.py3-none-any.whl (100 kB)\n",
      "Requirement already satisfied: attrs>=17.2.0 in /home/mihai/anaconda3/envs/coral/lib/python3.7/site-packages (from zeep>=3.0.0->onvif_zeep) (20.3.0)\n",
      "Requirement already satisfied: requests>=2.7.0 in /home/mihai/anaconda3/envs/coral/lib/python3.7/site-packages (from zeep>=3.0.0->onvif_zeep) (2.25.0)\n",
      "Requirement already satisfied: defusedxml>=0.4.1 in /home/mihai/anaconda3/envs/coral/lib/python3.7/site-packages (from zeep>=3.0.0->onvif_zeep) (0.6.0)\n",
      "Requirement already satisfied: pytz in /home/mihai/anaconda3/envs/coral/lib/python3.7/site-packages (from zeep>=3.0.0->onvif_zeep) (2020.4)\n",
      "Requirement already satisfied: lxml>=3.1.0 in /home/mihai/anaconda3/envs/coral/lib/python3.7/site-packages (from zeep>=3.0.0->onvif_zeep) (4.6.2)\n",
      "Collecting appdirs>=1.4.0\n",
      "  Downloading appdirs-1.4.4-py2.py3-none-any.whl (9.6 kB)\n",
      "Collecting cached-property>=1.3.0\n",
      "  Using cached cached_property-1.5.2-py2.py3-none-any.whl (7.6 kB)\n",
      "Collecting isodate>=0.5.4\n",
      "  Using cached isodate-0.6.0-py2.py3-none-any.whl (45 kB)\n",
      "Requirement already satisfied: six in /home/mihai/anaconda3/envs/coral/lib/python3.7/site-packages (from isodate>=0.5.4->zeep>=3.0.0->onvif_zeep) (1.15.0)\n",
      "Requirement already satisfied: urllib3<1.27,>=1.21.1 in /home/mihai/anaconda3/envs/coral/lib/python3.7/site-packages (from requests>=2.7.0->zeep>=3.0.0->onvif_zeep) (1.25.11)\n",
      "Requirement already satisfied: certifi>=2017.4.17 in /home/mihai/anaconda3/envs/coral/lib/python3.7/site-packages (from requests>=2.7.0->zeep>=3.0.0->onvif_zeep) (2020.12.5)\n",
      "Requirement already satisfied: chardet<4,>=3.0.2 in /home/mihai/anaconda3/envs/coral/lib/python3.7/site-packages (from requests>=2.7.0->zeep>=3.0.0->onvif_zeep) (3.0.4)\n",
      "Requirement already satisfied: idna<3,>=2.5 in /home/mihai/anaconda3/envs/coral/lib/python3.7/site-packages (from requests>=2.7.0->zeep>=3.0.0->onvif_zeep) (2.10)\n",
      "Collecting requests-file>=1.5.1\n",
      "  Using cached requests_file-1.5.1-py2.py3-none-any.whl (3.7 kB)\n",
      "Requirement already satisfied: requests>=2.7.0 in /home/mihai/anaconda3/envs/coral/lib/python3.7/site-packages (from zeep>=3.0.0->onvif_zeep) (2.25.0)\n",
      "Requirement already satisfied: six in /home/mihai/anaconda3/envs/coral/lib/python3.7/site-packages (from isodate>=0.5.4->zeep>=3.0.0->onvif_zeep) (1.15.0)\n",
      "Collecting requests-toolbelt>=0.7.1\n",
      "  Using cached requests_toolbelt-0.9.1-py2.py3-none-any.whl (54 kB)\n",
      "Requirement already satisfied: requests>=2.7.0 in /home/mihai/anaconda3/envs/coral/lib/python3.7/site-packages (from zeep>=3.0.0->onvif_zeep) (2.25.0)\n",
      "Installing collected packages: requests-toolbelt, requests-file, isodate, cached-property, appdirs, zeep, onvif-zeep\n",
      "Successfully installed appdirs-1.4.4 cached-property-1.5.2 isodate-0.6.0 onvif-zeep-0.2.12 requests-file-1.5.1 requests-toolbelt-0.9.1 zeep-4.0.0\n"
     ]
    }
   ],
   "metadata": {}
  },
  {
   "cell_type": "code",
   "execution_count": null,
   "source": [],
   "outputs": [],
   "metadata": {}
  }
 ],
 "metadata": {
  "orig_nbformat": 4,
  "language_info": {
   "name": "python",
   "version": "3.7.7",
   "mimetype": "text/x-python",
   "codemirror_mode": {
    "name": "ipython",
    "version": 3
   },
   "pygments_lexer": "ipython3",
   "nbconvert_exporter": "python",
   "file_extension": ".py"
  },
  "kernelspec": {
   "name": "python3",
   "display_name": "Python 3.7.7 64-bit ('coral': conda)"
  },
  "interpreter": {
   "hash": "ef77422684a36604b7e962215aff47363cb45158dba1daed84debcbc770244b9"
  }
 },
 "nbformat": 4,
 "nbformat_minor": 2
}